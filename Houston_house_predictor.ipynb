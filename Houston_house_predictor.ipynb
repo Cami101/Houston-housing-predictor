{
  "nbformat": 4,
  "nbformat_minor": 0,
  "metadata": {
    "colab": {
      "provenance": [],
      "gpuType": "T4",
      "machine_shape": "hm",
      "include_colab_link": true
    },
    "kernelspec": {
      "name": "python3",
      "display_name": "Python 3"
    },
    "language_info": {
      "name": "python"
    },
    "accelerator": "GPU"
  },
  "cells": [
    {
      "cell_type": "markdown",
      "metadata": {
        "id": "view-in-github",
        "colab_type": "text"
      },
      "source": [
        "<a href=\"https://colab.research.google.com/github/Cami101/Houston-housing-predictor/blob/main/Houston_house_predictor.ipynb\" target=\"_parent\"><img src=\"https://colab.research.google.com/assets/colab-badge.svg\" alt=\"Open In Colab\"/></a>"
      ]
    },
    {
      "cell_type": "code",
      "source": [
        "import pandas as pd\n",
        "import numpy as np\n",
        "\n",
        "from PIL import Image, ImageOps\n",
        "import os\n",
        "\n",
        "import torch\n",
        "from torch.utils.data import Dataset, DataLoader\n",
        "import torchvision\n",
        "from torchvision import transforms\n",
        "import torch.nn as nn\n",
        "import torch.optim as optim\n",
        "import torch.nn.functional as F\n",
        "\n",
        "from collections import defaultdict"
      ],
      "metadata": {
        "id": "T4NSJ4H6E0uy"
      },
      "execution_count": null,
      "outputs": []
    },
    {
      "cell_type": "code",
      "source": [
        "!pip install torchmetrics"
      ],
      "metadata": {
        "id": "mJx7PDfMDkyr",
        "colab": {
          "base_uri": "https://localhost:8080/"
        },
        "outputId": "960c5700-52b0-4196-c9c4-04c4751d4261"
      },
      "execution_count": null,
      "outputs": [
        {
          "output_type": "stream",
          "name": "stdout",
          "text": [
            "Collecting torchmetrics\n",
            "  Downloading torchmetrics-1.2.0-py3-none-any.whl (805 kB)\n",
            "\u001b[?25l     \u001b[90m━━━━━━━━━━━━━━━━━━━━━━━━━━━━━━━━━━━━━━━━\u001b[0m \u001b[32m0.0/805.2 kB\u001b[0m \u001b[31m?\u001b[0m eta \u001b[36m-:--:--\u001b[0m\r\u001b[2K     \u001b[91m━━━━━━━\u001b[0m\u001b[91m╸\u001b[0m\u001b[90m━━━━━━━━━━━━━━━━━━━━━━━━━━━━━━━━\u001b[0m \u001b[32m153.6/805.2 kB\u001b[0m \u001b[31m4.3 MB/s\u001b[0m eta \u001b[36m0:00:01\u001b[0m\r\u001b[2K     \u001b[90m━━━━━━━━━━━━━━━━━━━━━━━━━━━━━━━━━━━━━━━━\u001b[0m \u001b[32m805.2/805.2 kB\u001b[0m \u001b[31m14.2 MB/s\u001b[0m eta \u001b[36m0:00:00\u001b[0m\n",
            "\u001b[?25hRequirement already satisfied: numpy>1.20.0 in /usr/local/lib/python3.10/dist-packages (from torchmetrics) (1.23.5)\n",
            "Requirement already satisfied: torch>=1.8.1 in /usr/local/lib/python3.10/dist-packages (from torchmetrics) (2.1.0+cu118)\n",
            "Collecting lightning-utilities>=0.8.0 (from torchmetrics)\n",
            "  Downloading lightning_utilities-0.10.0-py3-none-any.whl (24 kB)\n",
            "Requirement already satisfied: packaging>=17.1 in /usr/local/lib/python3.10/dist-packages (from lightning-utilities>=0.8.0->torchmetrics) (23.2)\n",
            "Requirement already satisfied: setuptools in /usr/local/lib/python3.10/dist-packages (from lightning-utilities>=0.8.0->torchmetrics) (67.7.2)\n",
            "Requirement already satisfied: typing-extensions in /usr/local/lib/python3.10/dist-packages (from lightning-utilities>=0.8.0->torchmetrics) (4.5.0)\n",
            "Requirement already satisfied: filelock in /usr/local/lib/python3.10/dist-packages (from torch>=1.8.1->torchmetrics) (3.13.1)\n",
            "Requirement already satisfied: sympy in /usr/local/lib/python3.10/dist-packages (from torch>=1.8.1->torchmetrics) (1.12)\n",
            "Requirement already satisfied: networkx in /usr/local/lib/python3.10/dist-packages (from torch>=1.8.1->torchmetrics) (3.2.1)\n",
            "Requirement already satisfied: jinja2 in /usr/local/lib/python3.10/dist-packages (from torch>=1.8.1->torchmetrics) (3.1.2)\n",
            "Requirement already satisfied: fsspec in /usr/local/lib/python3.10/dist-packages (from torch>=1.8.1->torchmetrics) (2023.6.0)\n",
            "Requirement already satisfied: triton==2.1.0 in /usr/local/lib/python3.10/dist-packages (from torch>=1.8.1->torchmetrics) (2.1.0)\n",
            "Requirement already satisfied: MarkupSafe>=2.0 in /usr/local/lib/python3.10/dist-packages (from jinja2->torch>=1.8.1->torchmetrics) (2.1.3)\n",
            "Requirement already satisfied: mpmath>=0.19 in /usr/local/lib/python3.10/dist-packages (from sympy->torch>=1.8.1->torchmetrics) (1.3.0)\n",
            "Installing collected packages: lightning-utilities, torchmetrics\n",
            "Successfully installed lightning-utilities-0.10.0 torchmetrics-1.2.0\n"
          ]
        }
      ]
    },
    {
      "cell_type": "code",
      "source": [
        "from torchmetrics import MeanSquaredError"
      ],
      "metadata": {
        "id": "yP1Zx9ikDst1"
      },
      "execution_count": null,
      "outputs": []
    },
    {
      "cell_type": "code",
      "source": [
        "# additional modules / libraries to import\n",
        "import matplotlib.pyplot as plt\n",
        "from sklearn.metrics import confusion_matrix, ConfusionMatrixDisplay\n",
        "import numpy as np\n",
        "from sklearn.impute import KNNImputer\n",
        "from sklearn.preprocessing import LabelBinarizer\n",
        "from sklearn.preprocessing import MinMaxScaler\n",
        "import seaborn as sns\n",
        "import torchvision.models as models\n",
        "from torch import Tensor"
      ],
      "metadata": {
        "id": "ARTBOl2dFG9R"
      },
      "execution_count": null,
      "outputs": []
    },
    {
      "cell_type": "code",
      "source": [
        "torch.__version__"
      ],
      "metadata": {
        "id": "b31EITSHFy-T",
        "colab": {
          "base_uri": "https://localhost:8080/",
          "height": 35
        },
        "outputId": "f68c4ef3-6f69-4360-97d5-0fd7ec76f318"
      },
      "execution_count": null,
      "outputs": [
        {
          "output_type": "execute_result",
          "data": {
            "text/plain": [
              "'2.1.0+cu118'"
            ],
            "application/vnd.google.colaboratory.intrinsic+json": {
              "type": "string"
            }
          },
          "metadata": {},
          "execution_count": 6
        }
      ]
    },
    {
      "cell_type": "code",
      "source": [
        "device = \"cpu\"\n",
        "if (torch.cuda.is_available()):\n",
        "  device = \"cuda\"\n",
        "print(\"device: \" + device)"
      ],
      "metadata": {
        "id": "eV_iGHK_5LmK",
        "colab": {
          "base_uri": "https://localhost:8080/"
        },
        "outputId": "1b872b2d-f06a-40e9-e5dd-7a106fa190c1"
      },
      "execution_count": null,
      "outputs": [
        {
          "output_type": "stream",
          "name": "stdout",
          "text": [
            "device: cuda\n"
          ]
        }
      ]
    },
    {
      "cell_type": "code",
      "source": [
        "# note that this command will trigger a request from google to allow colab\n",
        "# to access your files: you will need to accept the terms in order to access\n",
        "# the files this way\n",
        "from google.colab import drive\n",
        "drive.mount('/content/drive', force_remount=True)\n",
        "\n",
        "# if you followed the instructions above exactly, your zipped data file should\n",
        "# be located at the file path below; if your files are in a different directory\n",
        "# on your Google Drive, you will need to change the path below accordingly\n",
        "ZIPPATH = '/content/drive/My Drive/comp341/comp341-hw6.zip'"
      ],
      "metadata": {
        "id": "iQRjNIFFMybe",
        "colab": {
          "base_uri": "https://localhost:8080/"
        },
        "outputId": "efdd64b5-12a4-40ce-a269-ba1a3cc4b123"
      },
      "execution_count": null,
      "outputs": [
        {
          "output_type": "stream",
          "name": "stdout",
          "text": [
            "Mounted at /content/drive\n"
          ]
        }
      ]
    },
    {
      "cell_type": "code",
      "source": [
        "!cp \"{ZIPPATH}\" .\n",
        "!unzip -q \"comp341-hw6.zip\"\n",
        "!rm \"comp341-hw6.zip\""
      ],
      "metadata": {
        "id": "soDMHE0OM5Aj"
      },
      "execution_count": null,
      "outputs": []
    },
    {
      "cell_type": "code",
      "source": [
        "# torch converts the 0-255 RGB values to 0-1 tensors, but it can\n",
        "# also be beneficial to also standardize the values (or, as we\n",
        "# see here, subtract the mean RGB values from the images)\n",
        "\n",
        "# these transformations below help facilitate this\n",
        "# inv_normalize is provided mainly for visualization sake, so that\n",
        "# we can flip the standardization process to see the image in its\n",
        "# original colors\n",
        "\n",
        "house_mean = [0.5230, 0.5416, 0.4989]\n",
        "# house_sd = [0.2271, 0.2162, 0.2640]\n",
        "# only subtracting mean and not also dividing by standard deviation\n",
        "# can actually sometimes work better, which is what we are doing here\n",
        "house_sd = [1, 1, 1]\n",
        "\n",
        "transform = transforms.Compose([\n",
        "    transforms.ToTensor(),\n",
        "    transforms.Normalize(house_mean, house_sd)\n",
        "])\n",
        "\n",
        "inv_normalize = transforms.Normalize(\n",
        "   mean= [-m/s for m, s in zip(house_mean, house_sd)],\n",
        "   std= [1/s for s in house_sd]\n",
        ")\n"
      ],
      "metadata": {
        "id": "cslAMjA3CxNt"
      },
      "execution_count": null,
      "outputs": []
    },
    {
      "cell_type": "code",
      "source": [
        "# convenient function for displaying images\n",
        "# by default, will reverse the standardization calculation so that we can\n",
        "# see the images in a \"normal\" color scheme\n",
        "def display_data(d, inv_norm=True):\n",
        "  if isinstance(d['houseid'], list): # we can handle a list of houses\n",
        "    batch_size = len(d['houseid'])\n",
        "    for i in range(batch_size):\n",
        "      if 'price' in d:\n",
        "        print('price:', \"${:,.0f}\".format(d['price'][i]))\n",
        "\n",
        "      if inv_norm:\n",
        "       display(transforms.ToPILImage()(inv_normalize(d['image'][i])))\n",
        "      else:\n",
        "        display(transforms.ToPILImage()(d['image'][i]))\n",
        "  else: # only an individual house to be displayed\n",
        "    if 'price' in d:\n",
        "      print('price:', \"${:,.0f}\".format(d['price']))\n",
        "\n",
        "    if inv_norm:\n",
        "      display(transforms.ToPILImage()(inv_normalize(d['image'])))\n",
        "    else:\n",
        "      display(transforms.ToPILImage()(d['image']))"
      ],
      "metadata": {
        "id": "RVO8eyvsC4cY"
      },
      "execution_count": null,
      "outputs": []
    },
    {
      "cell_type": "code",
      "source": [
        "##selected 72 features for training and testing, after many experiments with HouseImagesDataset, I decided to drop zipcodes that < 25 houses have, and drop one property type\n",
        "## \"property_type_Multi-Family (2-4 Unit)\"\n",
        "\n",
        "final_feature_names = ['beds', 'baths', 'sqft', 'lot_size', 'year_built', 'property_type_Single Family Residential', 'property_type_Townhouse',\n",
        "                      'zipcode_77004', 'zipcode_77005', 'zipcode_77006', 'zipcode_77007', 'zipcode_77008', 'zipcode_77009',\n",
        "                      'zipcode_77014', 'zipcode_77015', 'zipcode_77016', 'zipcode_77018', 'zipcode_77019', 'zipcode_77020', 'zipcode_77021',\n",
        "                      'zipcode_77022', 'zipcode_77023', 'zipcode_77024', 'zipcode_77025', 'zipcode_77026', 'zipcode_77027', 'zipcode_77030',\n",
        "                      'zipcode_77034', 'zipcode_77035', 'zipcode_77041', 'zipcode_77042', 'zipcode_77043', 'zipcode_77044', 'zipcode_77045',\n",
        "                      'zipcode_77047', 'zipcode_77049', 'zipcode_77051', 'zipcode_77053', 'zipcode_77054', 'zipcode_77055', 'zipcode_77056',\n",
        "                      'zipcode_77057', 'zipcode_77062', 'zipcode_77063', 'zipcode_77068', 'zipcode_77069', 'zipcode_77070', 'zipcode_77072',\n",
        "                      'zipcode_77073', 'zipcode_77076', 'zipcode_77077', 'zipcode_77079', 'zipcode_77080', 'zipcode_77082', 'zipcode_77083',\n",
        "                      'zipcode_77084', 'zipcode_77088', 'zipcode_77089', 'zipcode_77090', 'zipcode_77091', 'zipcode_77092', 'zipcode_77095',\n",
        "                      'zipcode_77096', 'zipcode_77098', 'zipcode_77339', 'zipcode_77345', 'zipcode_77346', 'zipcode_77379', 'zipcode_77433',\n",
        "                      'zipcode_77449', 'zipcode_77494']"
      ],
      "metadata": {
        "id": "1w_LUxUx2hD7"
      },
      "execution_count": null,
      "outputs": []
    },
    {
      "cell_type": "code",
      "source": [
        "class HouseImagesDataset(Dataset): # [4 pts]\n",
        "    def __init__(self, annot_file, image_dir, train=True):\n",
        "        # the annotation file is tidy, aka each row is a unique observation in the dataset,\n",
        "        # but it is not yet clean, which you will address in the TODO below\n",
        "        df = pd.read_csv(annot_file)\n",
        "        # print(df.loc[:,'list_price'].idxmin())\n",
        "\n",
        "        # Missing values\n",
        "        continuous = [\"beds\", \"baths\", \"sqft\", \"lot_size\", 'year_built']\n",
        "        imputer = KNNImputer(n_neighbors=3)\n",
        "        df[continuous] = pd.DataFrame(imputer.fit_transform(df[continuous]))\n",
        "\n",
        "\n",
        "        # TODO: cleaning / preprocessing of features in df\n",
        "\n",
        "        # One hot encoding\n",
        "        df = pd.get_dummies(df, columns=['property_type'], drop_first=True)\n",
        "        df = pd.get_dummies(df, columns=['zipcode'], drop_first=True)\n",
        "\n",
        "        cs = MinMaxScaler()\n",
        "        df[continuous] = cs.fit_transform(df[continuous])\n",
        "\n",
        "\n",
        "        # TODO: fill in this feature_cols list with the column names of\n",
        "        # features you would like to use to predict list price (many of the columns\n",
        "        # will likely be transformed from the original data in annot_file)\n",
        "\n",
        "        self.feature_cols = final_feature_names\n",
        "        self.house_annot = df\n",
        "        self.image_dir = image_dir\n",
        "        self.train=train\n",
        "\n",
        "    def __len__(self):\n",
        "        # TODO: fill in this method (replacing pass) to return the length of the dataset\n",
        "        return len(self.house_annot)\n",
        "\n",
        "    def __getitem__(self, idx):\n",
        "        if torch.is_tensor(idx):\n",
        "            idx = idx.tolist()\n",
        "\n",
        "        # we have provided code that will load and transform the indexed (\"ith\") image\n",
        "        # as well as features specified earlier in self.feature_cols within the processed\n",
        "        # pandas DataFrame\n",
        "        img = Image.open(os.path.join(self.image_dir, str(self.house_annot.loc[idx, 'houseid']) + '.jpg'))\n",
        "        img = transform(img)\n",
        "        img = img\n",
        "\n",
        "        features = self.house_annot.loc[idx, self.feature_cols]\n",
        "        features = features.tolist()\n",
        "        features = torch.FloatTensor(features)\n",
        "\n",
        "        # depending on whether the Dataset is in training mode, we will have the price data or not\n",
        "        if self.train:\n",
        "            item = {'image': img,\n",
        "                    'houseid': self.house_annot.loc[idx, 'houseid'],\n",
        "                    'features': features,\n",
        "                    'price': torch.tensor(self.house_annot.loc[idx, 'list_price'], dtype=torch.float)}\n",
        "        else:\n",
        "            item = {'image': img,\n",
        "                    'houseid': self.house_annot.loc[idx, 'houseid'],\n",
        "                    'features': features}\n",
        "\n",
        "        return item\n",
        "\n",
        "    def GetX(self):\n",
        "        return self.house_annot[final_feature_names]\n",
        "\n",
        "    def GetY(self):\n",
        "        return self.house_annot[\"list_price\"]"
      ],
      "metadata": {
        "id": "IE8wyjzNDADf"
      },
      "execution_count": null,
      "outputs": []
    },
    {
      "cell_type": "code",
      "source": [
        "# TODO: initialize the house dataset using the training data you were provided and check the length of the dataset [1 pt]\n",
        "house_dataset = HouseImagesDataset(annot_file= \"home_data_train.csv\", image_dir=\"house_imgs\")\n",
        "dataset_length = len(house_dataset)\n",
        "\n",
        "# length is 4000\n",
        "print(f\"Length of the dataset: {dataset_length}\")"
      ],
      "metadata": {
        "id": "UG9X-brBDDaN",
        "colab": {
          "base_uri": "https://localhost:8080/"
        },
        "outputId": "cbd275b1-d4e0-4466-9842-a44b6a95d772"
      },
      "execution_count": null,
      "outputs": [
        {
          "output_type": "stream",
          "name": "stdout",
          "text": [
            "Length of the dataset: 4000\n"
          ]
        }
      ]
    },
    {
      "cell_type": "code",
      "source": [
        "# TODO: use the convenient torch.utils.data.random_split function to split your loaded dataset into training and\n",
        "# validation portions, using 75% of the data for training and 25% of the data for validation [1 pt]\n",
        "train_size = int(0.75 * dataset_length)\n",
        "val_size = dataset_length - train_size\n",
        "\n",
        "train_dataset, val_dataset = torch.utils.data.random_split(house_dataset, [train_size, val_size])"
      ],
      "metadata": {
        "id": "wlwu7M-RDMl1"
      },
      "execution_count": null,
      "outputs": []
    },
    {
      "cell_type": "code",
      "source": [
        "class CustomAugmentation:\n",
        "    def __init__(self, seed):\n",
        "        self.seed = seed\n",
        "\n",
        "    def __call__(self, img):\n",
        "\n",
        "        # Random Rotation\n",
        "        transform_rotation = transforms.RandomRotation(degrees=(-25, 30), expand=False, center=None)\n",
        "        img = transform_rotation(img)\n",
        "\n",
        "        # Random Brightness\n",
        "        transform_brightness = transforms.ColorJitter(brightness= 0.45, contrast=0, saturation=0, hue=0)\n",
        "        img = transform_brightness(img)\n",
        "\n",
        "        # Random Contrast\n",
        "        transform_contrast = transforms.ColorJitter(brightness=0, contrast=0.5, saturation=0, hue=0)\n",
        "        img = transform_contrast(img)\n",
        "\n",
        "        # Ensure the tensor is in the range [0, 1]\n",
        "        img = torch.clamp(img, 0, 1)\n",
        "\n",
        "        return img"
      ],
      "metadata": {
        "id": "Gj96-3dAC_G-"
      },
      "execution_count": null,
      "outputs": []
    },
    {
      "cell_type": "code",
      "source": [
        "class HybridHouseNN(nn.Module):\n",
        "  def __init__(self):\n",
        "    super().__init__()\n",
        "    self.aug = CustomAugmentation(6)\n",
        "\n",
        "    self.conv1 = nn.Conv2d(3, 32, kernel_size=(3, 3), stride=1, padding=1)\n",
        "    self.relu1 = nn.ReLU()\n",
        "    self.batch_norm1 = nn.BatchNorm2d(32)\n",
        "    self.max_pool1 = nn.MaxPool2d(kernel_size=(2, 2))\n",
        "    self.dropout1 = nn.Dropout(0.2)\n",
        "\n",
        "    self.conv2 = nn.Conv2d(32, 64, kernel_size=(5, 5), padding=2)\n",
        "    self.relu2 = nn.ReLU()\n",
        "    self.batch_norm2 = nn.BatchNorm2d(64)\n",
        "    self.max_pool2 = nn.MaxPool2d(kernel_size=(2, 2))\n",
        "    self.dropout2 = nn.Dropout(0.2)\n",
        "\n",
        "    self.conv3 = nn.Conv2d(64, 128, kernel_size=(3, 3), padding=1)\n",
        "    self.relu3 = nn.ReLU()\n",
        "    self.batch_norm3 = nn.BatchNorm2d(128)\n",
        "    self.max_pool3 = nn.MaxPool2d(kernel_size=(2, 2))\n",
        "    self.dropout3 = nn.Dropout(0.3)\n",
        "\n",
        "    self.conv4 = nn.Conv2d(128, 256, kernel_size=(5, 5), padding=2)\n",
        "    self.relu4 = nn.ReLU()\n",
        "    self.batch_norm4 = nn.BatchNorm2d(256)\n",
        "    self.max_pool4 = nn.MaxPool2d(kernel_size=(2, 2))\n",
        "    self.dropout4 = nn.Dropout(0.3)\n",
        "\n",
        "    self.conv5 = nn.Conv2d(256, 512, kernel_size=(3, 3), padding=1)\n",
        "    self.relu5 = nn.ReLU()\n",
        "    self.batch_norm5 = nn.BatchNorm2d(512)\n",
        "    self.max_pool5 = nn.MaxPool2d(kernel_size=(2, 2))\n",
        "    self.dropout5 = nn.Dropout(0.3)\n",
        "\n",
        "    self.flatten = nn.Flatten()\n",
        "    self.fc1 = nn.Linear(512 * (128 // (2**5)) * (128 // (2**5)), 2048)\n",
        "    self.relu_fc1 = nn.ReLU()\n",
        "    self.dropout_fc1 = nn.Dropout(0.5)\n",
        "\n",
        "    self.fc2 = nn.Linear(2048, 256)\n",
        "    self.relu_fc2 = nn.ReLU()\n",
        "\n",
        "\n",
        "\n",
        "    # MLP for processing tabular features\n",
        "    self.mlp = nn.Sequential(\n",
        "            nn.Linear(71, 256),\n",
        "            nn.ReLU(),\n",
        "            nn.Linear(256, 256),\n",
        "            nn.ReLU()\n",
        "        )\n",
        "\n",
        "    # Fully connected layers for combining image and tabular features\n",
        "    self.fc_combined = nn.Sequential(\n",
        "            nn.Linear(512, 128),\n",
        "            nn.ReLU(),\n",
        "            nn.Linear(128, 1),\n",
        "            nn.ReLU()\n",
        "        )\n",
        "\n",
        "  def forward(self, x_img, x_feats):\n",
        "    x_img = self.aug(x_img)\n",
        "    x_img = self.max_pool1(self.batch_norm1(self.relu1(self.conv1(x_img))))\n",
        "    x_img = self.dropout1(x_img)\n",
        "\n",
        "    x_img = self.max_pool2(self.batch_norm2(self.relu2(self.conv2(x_img))))\n",
        "    x_img = self.dropout2(x_img)\n",
        "\n",
        "    x_img = self.max_pool3(self.batch_norm3(self.relu3(self.conv3(x_img))))\n",
        "    x_img = self.dropout3(x_img)\n",
        "\n",
        "    x_img = self.max_pool4(self.batch_norm4(self.relu4(self.conv4(x_img))))\n",
        "    x_img = self.dropout4(x_img)\n",
        "\n",
        "    x_img = self.max_pool5(self.batch_norm5(self.relu5(self.conv5(x_img))))\n",
        "    x_img = self.dropout5(x_img)\n",
        "\n",
        "    x_img = self.flatten(x_img)\n",
        "\n",
        "    x_img = self.fc1(x_img)\n",
        "    x_img = self.relu_fc1(x_img)\n",
        "    x_img = self.dropout_fc1(x_img)\n",
        "\n",
        "    x_img = self.fc2(x_img)\n",
        "    x_img = self.relu_fc2(x_img)\n",
        "\n",
        "    # Tabular feature processing\n",
        "    x_feats = self.mlp(x_feats)\n",
        "\n",
        "    # Concatenate image and tabular features\n",
        "    x = torch.cat([x_feats, x_img], dim=1)\n",
        "\n",
        "    x = self.fc_combined(x)\n",
        "    return x\n"
      ],
      "metadata": {
        "id": "XyjXkuabDPPL"
      },
      "execution_count": null,
      "outputs": []
    },
    {
      "cell_type": "code",
      "source": [
        "## extra model\n",
        "class Res34HybridHouseNN(nn.Module):\n",
        "  def __init__(self):\n",
        "    super().__init__()\n",
        "    self.aug = CustomAugmentation(6)\n",
        "    alexnet = models.alexnet(pretrained=True)\n",
        "    alexnet.features[0] = nn.Conv2d(3, 64, kernel_size=11, stride=4, padding=2)\n",
        "    alexnet.features = nn.Sequential(*list(alexnet.features.children())[:-1])\n",
        "    self.cnn = nn.Sequential(*list(alexnet.children())[:-1])\n",
        "\n",
        "    # MLP for processing tabular features\n",
        "    self.mlp = nn.Sequential(\n",
        "            nn.Linear(71, 256),\n",
        "            nn.ReLU(),\n",
        "            nn.Linear(256, 256),\n",
        "            nn.ReLU()\n",
        "        )\n",
        "\n",
        "    # Fully connected layers for combining image and tabular features\n",
        "    self.fc_combined = nn.Sequential(\n",
        "            nn.Linear(512, 128),\n",
        "            nn.ReLU(),\n",
        "            nn.Linear(128, 1),\n",
        "            nn.ReLU()\n",
        "        )\n",
        "\n",
        "  def forward(self, x_img, x_feats):\n",
        "    x_img = self.aug(x_img)\n",
        "    x_img = self.cnn(x_img)\n",
        "    x_img = F.adaptive_avg_pool2d(x_img, (1, 1))\n",
        "    x_img = x_img.view(x_img.size(0), -1)\n",
        "\n",
        "    x_feats = self.mlp(x_feats)\n",
        "\n",
        "    # Concatenate image and tabular features\n",
        "    x = torch.cat([x_feats, x_img], dim=1)\n",
        "\n",
        "\n",
        "    x = self.fc_combined(x)\n",
        "    return x"
      ],
      "metadata": {
        "id": "t__6bKQqv0LR"
      },
      "execution_count": null,
      "outputs": []
    },
    {
      "cell_type": "markdown",
      "source": [
        "Before training our model, we want to also set up some additional models to what the differences might be if we use *only* images or *only* the tabular features for our predictions. Of course, if we set the models up differently with different hyperparameters, we really cannot have a truly equivalent comparison, but we will try to keep as many of the model blocks the same as possible."
      ],
      "metadata": {
        "id": "CjwR2raiDWTD"
      }
    },
    {
      "cell_type": "code",
      "source": [
        "class HouseImageOnly(nn.Module):\n",
        "    def __init__(self):\n",
        "        super().__init__()\n",
        "        self.aug = CustomAugmentation(6)\n",
        "\n",
        "        self.conv1 = nn.Conv2d(3, 32, kernel_size=(3, 3), stride=1, padding=1)\n",
        "        self.relu1 = nn.ReLU()\n",
        "        self.batch_norm1 = nn.BatchNorm2d(32)\n",
        "        self.max_pool1 = nn.MaxPool2d(kernel_size=(2, 2))\n",
        "        self.dropout1 = nn.Dropout(0.2)\n",
        "\n",
        "        self.conv2 = nn.Conv2d(32, 64, kernel_size=(5, 5), padding=2)\n",
        "        self.relu2 = nn.ReLU()\n",
        "        self.batch_norm2 = nn.BatchNorm2d(64)\n",
        "        self.max_pool2 = nn.MaxPool2d(kernel_size=(2, 2))\n",
        "        self.dropout2 = nn.Dropout(0.2)\n",
        "\n",
        "        self.conv3 = nn.Conv2d(64, 128, kernel_size=(3, 3), padding=1)\n",
        "        self.relu3 = nn.ReLU()\n",
        "        self.batch_norm3 = nn.BatchNorm2d(128)\n",
        "        self.max_pool3 = nn.MaxPool2d(kernel_size=(2, 2))\n",
        "        self.dropout3 = nn.Dropout(0.3)\n",
        "\n",
        "        self.conv4 = nn.Conv2d(128, 256, kernel_size=(5, 5), padding=2)\n",
        "        self.relu4 = nn.ReLU()\n",
        "        self.batch_norm4 = nn.BatchNorm2d(256)\n",
        "        self.max_pool4 = nn.MaxPool2d(kernel_size=(2, 2))\n",
        "        self.dropout4 = nn.Dropout(0.3)\n",
        "\n",
        "        self.conv5 = nn.Conv2d(256, 512, kernel_size=(3, 3), padding=1)\n",
        "        self.relu5 = nn.ReLU()\n",
        "        self.batch_norm5 = nn.BatchNorm2d(512)\n",
        "        self.max_pool5 = nn.MaxPool2d(kernel_size=(2, 2))\n",
        "        self.dropout5 = nn.Dropout(0.3)\n",
        "\n",
        "        self.flatten = nn.Flatten()\n",
        "        self.fc1 = nn.Linear(512 * (128 // (2**5)) * (128 // (2**5)), 2048)\n",
        "        self.relu_fc1 = nn.ReLU()\n",
        "        self.dropout_fc1 = nn.Dropout(0.5)\n",
        "\n",
        "        self.fc2 = nn.Linear(2048, 256)\n",
        "        self.relu_fc2 = nn.ReLU()\n",
        "\n",
        "        self.fc_combined = nn.Sequential(\n",
        "            nn.Linear(256, 128),\n",
        "            nn.ReLU(),\n",
        "            nn.Linear(128, 1),\n",
        "            nn.ReLU()\n",
        "        )\n",
        "\n",
        "    def forward(self, x_img):\n",
        "        x_img = self.aug(x_img)\n",
        "        x_img = self.max_pool1(self.batch_norm1(self.relu1(self.conv1(x_img))))\n",
        "        x_img = self.dropout1(x_img)\n",
        "\n",
        "        x_img = self.max_pool2(self.batch_norm2(self.relu2(self.conv2(x_img))))\n",
        "        x_img = self.dropout2(x_img)\n",
        "\n",
        "        x_img = self.max_pool3(self.batch_norm3(self.relu3(self.conv3(x_img))))\n",
        "        x_img = self.dropout3(x_img)\n",
        "\n",
        "        x_img = self.max_pool4(self.batch_norm4(self.relu4(self.conv4(x_img))))\n",
        "        x_img = self.dropout4(x_img)\n",
        "\n",
        "        x_img = self.max_pool5(self.batch_norm5(self.relu5(self.conv5(x_img))))\n",
        "        x_img = self.dropout5(x_img)\n",
        "\n",
        "        x_img = self.flatten(x_img)\n",
        "\n",
        "        x_img = self.fc1(x_img)\n",
        "        x_img = self.relu_fc1(x_img)\n",
        "        x_img = self.dropout_fc1(x_img)\n",
        "\n",
        "        x_img = self.fc2(x_img)\n",
        "        x_img = self.relu_fc2(x_img)\n",
        "\n",
        "        x_img = self.fc_combined(x_img)\n",
        "\n",
        "        return x_img\n"
      ],
      "metadata": {
        "id": "NAhVarbk6K5z"
      },
      "execution_count": null,
      "outputs": []
    },
    {
      "cell_type": "code",
      "source": [
        "class HouseFeatsOnly(nn.Module):\n",
        "  def __init__(self):\n",
        "    super().__init__()\n",
        "\n",
        "    # MLP for processing tabular features\n",
        "    self.mlp = nn.Sequential(\n",
        "            nn.Linear(71, 256),\n",
        "            nn.ReLU(),\n",
        "            nn.Linear(256, 256),\n",
        "            nn.ReLU()\n",
        "        )\n",
        "\n",
        "    # Fully connected layers for combining image and tabular features\n",
        "    self.fc_combined = nn.Sequential(\n",
        "            nn.Linear(256, 128),\n",
        "            nn.ReLU(),\n",
        "            nn.Linear(128, 1),\n",
        "            nn.ReLU()\n",
        "        )\n",
        "\n",
        "  def forward(self, x_feats):\n",
        "    # Tabular feature processing\n",
        "    x_feats = self.mlp(x_feats)\n",
        "\n",
        "    x = self.fc_combined(x_feats)\n",
        "    return x\n"
      ],
      "metadata": {
        "id": "NrzGPJMrDZhW"
      },
      "execution_count": null,
      "outputs": []
    },
    {
      "cell_type": "code",
      "source": [
        "loss_fn = MeanSquaredError(squared=False).to(device)"
      ],
      "metadata": {
        "id": "PRbjN9okDeBf"
      },
      "execution_count": null,
      "outputs": []
    },
    {
      "cell_type": "code",
      "source": [
        "# class L1LossFlat(nn.SmoothL1Loss):\n",
        "#     def forward(self, input: Tensor, target: Tensor) -> Tensor:\n",
        "#         return super().forward(input.view(-1), target.view(-1))\n",
        "# loss_fn = L1LossFlat()"
      ],
      "metadata": {
        "id": "3yoP26lPoam-"
      },
      "execution_count": null,
      "outputs": []
    },
    {
      "cell_type": "code",
      "source": [
        "def train(model, train_loader, opt, epoch, mode=\"both\", verbose=False):\n",
        "  # mode can be \"both\", \"image\", or \"features\", depending on if we are using\n",
        "  # our HybridHouseNN, HouseImageOnly, or HouseFeatsOnly model\n",
        "  # we will assume that the model passed to this function matches the mode,\n",
        "  # and mode will affect whether the model uses image, features, or a combination\n",
        "  # as input to get the predictions in the forward pass\n",
        "\n",
        "  if verbose:\n",
        "    print(\"starting epoch\", epoch)\n",
        "  train_loss = 0\n",
        "  for i, batch in enumerate(train_loader):\n",
        "    image, features, price = batch['image'].to(device), \\\n",
        "                             batch['features'].to(device), \\\n",
        "                             batch['price'].to(device)\n",
        "\n",
        "    model.train(True)\n",
        "\n",
        "    # TODO: fill in the code for each of the steps in the\n",
        "    # training loop, remembering that we want to account for\n",
        "    # different modes in the forward pass step [2 pts]\n",
        "\n",
        "    if mode == \"both\":\n",
        "      predictions = model(image, features)\n",
        "    elif mode == \"res34\":\n",
        "        predictions = model(image, features)\n",
        "    elif mode == \"image\":\n",
        "      predictions = model(image)\n",
        "    else:\n",
        "      predictions = model(features)\n",
        "\n",
        "    predictions = torch.squeeze(predictions, dim=1)\n",
        "    loss = loss_fn(predictions, price)\n",
        "\n",
        "    loss.backward()\n",
        "    opt.step()\n",
        "    train_loss += loss.item()\n",
        "    opt.zero_grad()\n",
        "\n",
        "\n",
        "    model.train(False)\n",
        "    if verbose and ((i % 20) == 0):\n",
        "      print('training [epoch {}: {}/{} ({:.0f}%)] loss: {:.6f}'.format(\n",
        "          epoch, i * len(image), len(train_loader.dataset),\n",
        "          100. * i / len(train_loader), loss.item()))\n",
        "\n",
        "  avg_tl = train_loss / (i+1)\n",
        "  print('epoch {} avg training loss: {:.6f}'.format(epoch, avg_tl))\n",
        "  return avg_tl"
      ],
      "metadata": {
        "id": "OQVoJipaDf0K"
      },
      "execution_count": null,
      "outputs": []
    },
    {
      "cell_type": "code",
      "source": [
        "def valid(model, valid_loader, mode=\"both\"):\n",
        "  # as in train, mode can be \"both\", \"image\", or \"features\", depending on if we are using\n",
        "  # our HybridHouseNN, HouseImageOnly, or HouseFeatsOnly model\n",
        "  # we will assume that the model passed to this function matches the mode,\n",
        "  # and mode will affect whether the model uses image, features, or a combination\n",
        "  # as input to get the predictions in the forward pass\n",
        "  valid_loss = 0\n",
        "  correct = 0\n",
        "  with torch.no_grad():\n",
        "    for i, batch in enumerate(valid_loader):\n",
        "      image, features, price = batch['image'].to(device), \\\n",
        "                               batch['features'].to(device), \\\n",
        "                               batch['price'].to(device)\n",
        "\n",
        "      # TODO: fill in code to calculate pred (the prediction), paying attention to\n",
        "      # different usage of the model depending on the inputted mode variable [1 pt]\n",
        "      if mode == \"both\":\n",
        "        predictions = model(image, features)\n",
        "      elif mode == \"res34\":\n",
        "        predictions = model(image, features)\n",
        "      elif mode == \"image\":\n",
        "        predictions = model(image)\n",
        "      else:\n",
        "        predictions = model(features)\n",
        "\n",
        "      predictions = torch.squeeze(predictions, dim=1)\n",
        "      # get loss\n",
        "      valid_loss += loss_fn(predictions, price).item()\n",
        "\n",
        "\n",
        "  # get the loss for the epoch\n",
        "  avg_vl = valid_loss / (i+1)\n",
        "  print('avg validation loss: {:.6f}'.format(avg_vl))\n",
        "\n",
        "  return avg_vl"
      ],
      "metadata": {
        "id": "YhzM9gYhD3Fo"
      },
      "execution_count": null,
      "outputs": []
    },
    {
      "cell_type": "code",
      "source": [
        "# TODO: initialize your training and validation DataLoaders, using a batch_size of 64\n",
        "# and remembering to randomize the order the data points are presented to the model [1 pt]\n",
        "batch_size = 64\n",
        "train_loader = DataLoader(train_dataset, batch_size=batch_size, shuffle=True)\n",
        "valid_loader = DataLoader(val_dataset, batch_size=batch_size, shuffle=False)"
      ],
      "metadata": {
        "id": "HaVa036-D4k2"
      },
      "execution_count": null,
      "outputs": []
    },
    {
      "cell_type": "code",
      "source": [
        "# we will use these simple dictionaries to keep track of the loss for our 3 different models\n",
        "# note that depending on how complex your 3 models are, training may take some time, on the scale\n",
        "# of 15-30 minutes\n",
        "# with verbose on below, you should be seeing continual progress during training: if not, then\n",
        "# double check that you are using GPUs and the image files locally within your colab instance\n",
        "epoch_list = defaultdict(list)\n",
        "train_loss = defaultdict(list)\n",
        "valid_loss = defaultdict(list)\n",
        "# 'both': HybridHouseNN(), 'image': HouseImageOnly(), 'res34': Res34HybridHouseNN(), 'features': HouseFeatsOnly(),\n",
        "epochs = 30\n",
        "torch.manual_seed(67)\n",
        "modes = {'both': HybridHouseNN(), 'image': HouseImageOnly(), 'features': HouseFeatsOnly()}\n",
        "for m in modes:\n",
        "  model = modes[m].to(device)\n",
        "  # TODO: initialize the optimizer (and associated hyperparameters like learning rate) of your choice [1 pt]\n",
        "  opt = torch.optim.Adam(model.parameters(), lr=0.02, weight_decay = 1e-3)\n",
        "\n",
        "  print(\"Current mode:\", m)\n",
        "  for e in range(1, epochs+1):\n",
        "    epoch_list[m].append(e)\n",
        "    train_loss[m].append(train(model, train_loader, opt, e, m, verbose=False))\n",
        "    val_loss = valid(model, valid_loader, m)\n",
        "    valid_loss[m].append(val_loss)\n"
      ],
      "metadata": {
        "id": "Ddlp7rygD5mS",
        "colab": {
          "base_uri": "https://localhost:8080/"
        },
        "outputId": "ab4766f3-8b5d-4ef5-ea93-fa979600174c"
      },
      "execution_count": null,
      "outputs": [
        {
          "output_type": "stream",
          "name": "stdout",
          "text": [
            "Current mode: both\n",
            "epoch 1 avg training loss: 627592.414894\n",
            "avg validation loss: 849921.982422\n",
            "epoch 2 avg training loss: 502490.294880\n",
            "avg validation loss: 719893.359375\n",
            "epoch 3 avg training loss: 424966.639628\n",
            "avg validation loss: 649769.236328\n",
            "epoch 4 avg training loss: 371164.840758\n",
            "avg validation loss: 572077.544922\n",
            "epoch 5 avg training loss: 337201.302527\n",
            "avg validation loss: 507045.513672\n",
            "epoch 6 avg training loss: 327951.781416\n",
            "avg validation loss: 493954.918945\n",
            "epoch 7 avg training loss: 309007.938497\n",
            "avg validation loss: 517741.109375\n",
            "epoch 8 avg training loss: 312954.270944\n",
            "avg validation loss: 465225.618164\n",
            "epoch 9 avg training loss: 305665.766622\n",
            "avg validation loss: 455071.506836\n",
            "epoch 10 avg training loss: 284737.535406\n",
            "avg validation loss: 446059.559570\n",
            "epoch 11 avg training loss: 305752.380485\n",
            "avg validation loss: 433536.013672\n",
            "epoch 12 avg training loss: 296742.511303\n",
            "avg validation loss: 465278.391602\n",
            "epoch 13 avg training loss: 280687.475066\n",
            "avg validation loss: 465779.995117\n",
            "epoch 14 avg training loss: 290449.610372\n",
            "avg validation loss: 443600.708984\n",
            "epoch 15 avg training loss: 273277.224069\n",
            "avg validation loss: 450598.087891\n",
            "epoch 16 avg training loss: 278809.795213\n",
            "avg validation loss: 419448.955078\n",
            "epoch 17 avg training loss: 263557.059840\n",
            "avg validation loss: 466923.102539\n",
            "epoch 18 avg training loss: 267703.577793\n",
            "avg validation loss: 421989.180664\n",
            "epoch 19 avg training loss: 266287.574468\n",
            "avg validation loss: 422816.824219\n",
            "epoch 20 avg training loss: 258511.690824\n",
            "avg validation loss: 397167.362305\n",
            "epoch 21 avg training loss: 252598.422207\n",
            "avg validation loss: 405491.278320\n",
            "epoch 22 avg training loss: 266111.074801\n",
            "avg validation loss: 406881.202637\n",
            "epoch 23 avg training loss: 265403.338597\n",
            "avg validation loss: 393559.837891\n",
            "epoch 24 avg training loss: 262282.649934\n",
            "avg validation loss: 377703.687500\n",
            "epoch 25 avg training loss: 253932.257314\n",
            "avg validation loss: 403609.879883\n",
            "epoch 26 avg training loss: 250247.332779\n",
            "avg validation loss: 447147.953613\n",
            "epoch 27 avg training loss: 260334.901097\n",
            "avg validation loss: 396803.877441\n",
            "epoch 28 avg training loss: 239298.650100\n",
            "avg validation loss: 433118.532227\n",
            "epoch 29 avg training loss: 244839.255818\n",
            "avg validation loss: 409527.293945\n",
            "epoch 30 avg training loss: 236158.818983\n",
            "avg validation loss: 357231.547852\n",
            "Current mode: image\n",
            "epoch 1 avg training loss: 633382.272939\n",
            "avg validation loss: 938332.878906\n",
            "epoch 2 avg training loss: 611315.024934\n",
            "avg validation loss: 897973.601562\n",
            "epoch 3 avg training loss: 605765.090426\n",
            "avg validation loss: 878863.537109\n",
            "epoch 4 avg training loss: 592924.036237\n",
            "avg validation loss: 910706.228516\n",
            "epoch 5 avg training loss: 585596.769947\n",
            "avg validation loss: 893937.306641\n",
            "epoch 6 avg training loss: 589813.304854\n",
            "avg validation loss: 881927.041016\n",
            "epoch 7 avg training loss: 582803.936835\n",
            "avg validation loss: 887371.654297\n",
            "epoch 8 avg training loss: 584818.735040\n",
            "avg validation loss: 868245.925781\n",
            "epoch 9 avg training loss: 579177.053856\n",
            "avg validation loss: 870828.199219\n",
            "epoch 10 avg training loss: 567893.699468\n",
            "avg validation loss: 893752.291016\n",
            "epoch 11 avg training loss: 568434.959441\n",
            "avg validation loss: 875816.253906\n",
            "epoch 12 avg training loss: 586051.980718\n",
            "avg validation loss: 861206.667969\n",
            "epoch 13 avg training loss: 562242.679854\n",
            "avg validation loss: 869368.195312\n",
            "epoch 14 avg training loss: 571591.331117\n",
            "avg validation loss: 884462.726562\n",
            "epoch 15 avg training loss: 577937.879654\n",
            "avg validation loss: 889583.292969\n",
            "epoch 16 avg training loss: 564037.869348\n",
            "avg validation loss: 927969.964844\n",
            "epoch 17 avg training loss: 567563.000997\n",
            "avg validation loss: 863377.761719\n",
            "epoch 18 avg training loss: 546948.263963\n",
            "avg validation loss: 873623.560547\n",
            "epoch 19 avg training loss: 565494.194149\n",
            "avg validation loss: 882746.361328\n",
            "epoch 20 avg training loss: 569656.168883\n",
            "avg validation loss: 939993.107422\n",
            "epoch 21 avg training loss: 562406.664229\n",
            "avg validation loss: 887652.250000\n",
            "epoch 22 avg training loss: 553317.280585\n",
            "avg validation loss: 890847.009766\n",
            "epoch 23 avg training loss: 562644.702793\n",
            "avg validation loss: 870247.447266\n",
            "epoch 24 avg training loss: 548754.581117\n",
            "avg validation loss: 894149.273438\n",
            "epoch 25 avg training loss: 555396.541223\n",
            "avg validation loss: 1122462.492188\n",
            "epoch 26 avg training loss: 556361.641622\n",
            "avg validation loss: 863765.386719\n",
            "epoch 27 avg training loss: 535223.684840\n",
            "avg validation loss: 910349.048828\n",
            "epoch 28 avg training loss: 573560.553191\n",
            "avg validation loss: 878401.578125\n",
            "epoch 29 avg training loss: 571484.709441\n",
            "avg validation loss: 885693.908203\n",
            "epoch 30 avg training loss: 549566.054854\n",
            "avg validation loss: 880160.914062\n",
            "Current mode: features\n",
            "epoch 1 avg training loss: 684516.624668\n",
            "avg validation loss: 853748.539062\n",
            "epoch 2 avg training loss: 508700.466423\n",
            "avg validation loss: 747378.118164\n",
            "epoch 3 avg training loss: 425115.796875\n",
            "avg validation loss: 649737.372070\n",
            "epoch 4 avg training loss: 376180.007646\n",
            "avg validation loss: 577153.777344\n",
            "epoch 5 avg training loss: 318851.346077\n",
            "avg validation loss: 509891.350586\n",
            "epoch 6 avg training loss: 320554.682347\n",
            "avg validation loss: 488814.226562\n",
            "epoch 7 avg training loss: 299477.048039\n",
            "avg validation loss: 488848.605469\n",
            "epoch 8 avg training loss: 298434.028590\n",
            "avg validation loss: 466022.902344\n",
            "epoch 9 avg training loss: 296033.940658\n",
            "avg validation loss: 469523.902344\n",
            "epoch 10 avg training loss: 285010.454953\n",
            "avg validation loss: 449710.109863\n",
            "epoch 11 avg training loss: 286356.139960\n",
            "avg validation loss: 424593.366699\n",
            "epoch 12 avg training loss: 286194.492686\n",
            "avg validation loss: 441154.846680\n",
            "epoch 13 avg training loss: 278962.525100\n",
            "avg validation loss: 428630.565430\n",
            "epoch 14 avg training loss: 284221.931350\n",
            "avg validation loss: 412610.554688\n",
            "epoch 15 avg training loss: 281320.098570\n",
            "avg validation loss: 392158.433594\n",
            "epoch 16 avg training loss: 290714.930851\n",
            "avg validation loss: 406507.155273\n",
            "epoch 17 avg training loss: 276368.058511\n",
            "avg validation loss: 399925.595215\n",
            "epoch 18 avg training loss: 275013.671376\n",
            "avg validation loss: 414626.080566\n",
            "epoch 19 avg training loss: 267782.463597\n",
            "avg validation loss: 434343.888672\n",
            "epoch 20 avg training loss: 273165.849235\n",
            "avg validation loss: 397755.028809\n",
            "epoch 21 avg training loss: 265941.785738\n",
            "avg validation loss: 419592.613281\n",
            "epoch 22 avg training loss: 277192.718584\n",
            "avg validation loss: 441442.319824\n",
            "epoch 23 avg training loss: 266321.066489\n",
            "avg validation loss: 388419.388672\n",
            "epoch 24 avg training loss: 260675.398438\n",
            "avg validation loss: 380886.641602\n",
            "epoch 25 avg training loss: 256305.053690\n",
            "avg validation loss: 366474.470703\n",
            "epoch 26 avg training loss: 254327.267786\n",
            "avg validation loss: 394732.812988\n",
            "epoch 27 avg training loss: 254598.951629\n",
            "avg validation loss: 427494.165527\n",
            "epoch 28 avg training loss: 248283.992852\n",
            "avg validation loss: 400801.291504\n",
            "epoch 29 avg training loss: 256693.327793\n",
            "avg validation loss: 384502.439453\n",
            "epoch 30 avg training loss: 247706.822806\n",
            "avg validation loss: 365311.012207\n"
          ]
        }
      ]
    },
    {
      "cell_type": "code",
      "source": [
        "# TODO: on a single plot, plot the training and validation losses for your 3 different models [2 pts]\n",
        "for m in modes:\n",
        "    plt.plot(epoch_list[m], train_loss[m], label=f'{m} - Train')\n",
        "    plt.plot(epoch_list[m], valid_loss[m], label=f'{m} - Validation')\n",
        "\n",
        "plt.xlabel('Epoch')\n",
        "plt.ylabel('Loss')\n",
        "plt.title('Training and Validation Losses for Different Models')\n",
        "plt.legend()\n",
        "plt.show()"
      ],
      "metadata": {
        "id": "RMOIIkH8EFnM",
        "colab": {
          "base_uri": "https://localhost:8080/",
          "height": 472
        },
        "outputId": "0e9ff149-3ea7-4ca7-e465-1ceb3f9f8b63"
      },
      "execution_count": null,
      "outputs": [
        {
          "output_type": "display_data",
          "data": {
            "text/plain": [
              "<Figure size 640x480 with 1 Axes>"
            ],
            "image/png": "[encoded data removed]"
          },
          "metadata": {}
        }
      ]
    },
    {
      "cell_type": "code",
      "source": [
        "batch_size = 64\n",
        "house_testset = HouseImagesDataset(annot_file= \"home_data_test.csv\", image_dir=\"house_imgs\",  train=False)\n",
        "test_loader = DataLoader(house_testset, batch_size=batch_size, shuffle=False,)\n",
        "lst = []\n",
        "with torch.no_grad():\n",
        "  for i, batch in enumerate(test_loader):\n",
        "    image, features = batch['image'].to(device), \\\n",
        "                              batch['features'].to(device)\n",
        "    pred = model(features)\n",
        "    pred = torch.squeeze(pred, dim=1)\n",
        "    lst.append(pred.cpu().numpy())\n",
        "\n",
        "y_pred_kagg = np.concatenate(lst)\n",
        "\n",
        "plt.figure(figsize=(10, 6))\n",
        "sns.kdeplot(y_pred_kagg, color='blue', fill=True)\n",
        "plt.title('Distribution of list_price')\n",
        "plt.xlabel('list_price')\n",
        "plt.ylabel('Density')\n",
        "plt.grid(True)\n",
        "plt.show()"
      ],
      "metadata": {
        "colab": {
          "base_uri": "https://localhost:8080/",
          "height": 564
        },
        "id": "Lzcy_hw_mjcj",
        "outputId": "35551227-ca8d-405e-b4f3-e8c84defd361"
      },
      "execution_count": null,
      "outputs": [
        {
          "output_type": "display_data",
          "data": {
            "text/plain": [
              "<Figure size 1000x600 with 1 Axes>"
            ],
            "image/png": "[encoded data removed]"
          },
          "metadata": {}
        }
      ]
    },
    {
      "cell_type": "code",
      "source": [
        "df_test = pd.read_csv(\"home_data_test.csv\")\n",
        "results = pd.Series(y_pred_kagg.flatten(), name=\"price\")\n",
        "print(\"Min Price:\", results.min())\n",
        "print(\"Max Price:\", results.max())\n",
        "max_value = 6000000\n",
        "min = 10000\n",
        "# Count the number of values greater than max_value\n",
        "count_above_max = (results > max_value).sum()\n",
        "\n",
        "# Print the result\n",
        "print(f\"Number of values above {max_value}: {count_above_max}\")\n",
        "results = pd.concat([df_test['houseid'], results], axis=1)\n",
        "results.to_csv('my_submission.csv', index=False)"
      ],
      "metadata": {
        "id": "Pwu7Br9JIbzJ",
        "colab": {
          "base_uri": "https://localhost:8080/"
        },
        "outputId": "9e834409-40c3-4cc7-9d95-3e8c70c8ed5c"
      },
      "execution_count": null,
      "outputs": [
        {
          "output_type": "stream",
          "name": "stdout",
          "text": [
            "Min Price: 31198.055\n",
            "Max Price: 18815484.0\n",
            "Number of values above 6000000: 61\n"
          ]
        }
      ]
    },
    {
      "cell_type": "code",
      "source": [
        "##Second method: decision tree regressor\n",
        "\n",
        "df = pd.read_csv(\"home_data_train.csv\")\n",
        "X = df.drop('list_price', axis=1)\n",
        "\n",
        "y = df.loc[:,'list_price']\n",
        "print(y.max())\n",
        "print(y.min())\n",
        "\n",
        "selected_features = ['property_type', 'beds', 'baths', 'sqft', 'lot_size', 'year_built', 'latitude', 'longitude']\n",
        "X_selected = X[selected_features]\n",
        "X_encoded = pd.get_dummies(X_selected, columns=['property_type'], drop_first=True)\n",
        "\n",
        "imputer = KNNImputer(n_neighbors=3)\n",
        "X_imputed = pd.DataFrame(imputer.fit_transform(X_encoded), columns=X_encoded.columns)"
      ],
      "metadata": {
        "id": "0yytrn4TBS-6",
        "colab": {
          "base_uri": "https://localhost:8080/"
        },
        "outputId": "84fda5e7-a279-4871-a242-b8ff181d5d3e"
      },
      "execution_count": null,
      "outputs": [
        {
          "output_type": "stream",
          "name": "stdout",
          "text": [
            "17850000\n",
            "41000\n"
          ]
        }
      ]
    },
    {
      "cell_type": "code",
      "source": [
        "df_test = pd.read_csv(\"home_data_test.csv\")\n",
        "\n",
        "X_test = df_test[selected_features]\n",
        "X_test = pd.get_dummies(X_test, columns=['property_type'], drop_first=True)\n",
        "\n",
        "imputer = KNNImputer(n_neighbors=3)\n",
        "X_test = pd.DataFrame(imputer.fit_transform(X_test), columns=X_test.columns)\n",
        "X_test.rename(columns={'property_type_Multi-Family (5+ Unit)': 'property_type_Multi-Family (2-4 Unit)'}, inplace=True)\n",
        "\n",
        "from sklearn.tree import DecisionTreeRegressor\n",
        "\n",
        "dt_regressor = DecisionTreeRegressor(max_depth=20)\n",
        "dt_regressor.fit(X_imputed, y)\n",
        "y_pred_kagg = dt_regressor.predict(X_test)\n",
        "results = pd.Series(y_pred_kagg.flatten(), name=\"price\")\n",
        "print(\"Min Price:\", results.min())\n",
        "print(\"Max Price:\", results.max())\n",
        "max_value = 6000000\n",
        "count_above_max = (results > max_value).sum()\n",
        "print(f\"Number of values above {max_value}: {count_above_max}\")\n",
        "results = pd.concat([df_test['houseid'], results], axis=1)\n",
        "results.to_csv('my_submission.csv', index=False)\n",
        "plt.figure(figsize=(10, 6))\n",
        "sns.kdeplot(y_pred_kagg, color='blue', fill=True)\n",
        "plt.title('Distribution of list_price')\n",
        "plt.xlabel('list_price')\n",
        "plt.ylabel('Density')\n",
        "plt.grid(True)\n",
        "plt.show()"
      ],
      "metadata": {
        "colab": {
          "base_uri": "https://localhost:8080/",
          "height": 618
        },
        "id": "xUr7cds1BSPc",
        "outputId": "2fb4a8d8-1217-44b2-b2cd-772571f19edf"
      },
      "execution_count": null,
      "outputs": [
        {
          "output_type": "stream",
          "name": "stdout",
          "text": [
            "Min Price: 45000.0\n",
            "Max Price: 17850000.0\n",
            "Number of values above 6000000: 9\n"
          ]
        },
        {
          "output_type": "display_data",
          "data": {
            "text/plain": [
              "<Figure size 1000x600 with 1 Axes>"
            ],
            "image/png": "[encoded data removed]"
          },
          "metadata": {}
        }
      ]
    }
  ]
}